{
 "cells": [
  {
   "cell_type": "code",
   "execution_count": 29,
   "metadata": {},
   "outputs": [],
   "source": [
    "#Solemne 1 Minería de Datos 2024\n",
    "#Matías Tobar Toledo"
   ]
  },
  {
   "cell_type": "code",
   "execution_count": 2,
   "metadata": {},
   "outputs": [],
   "source": [
    "from google.cloud import bigquery"
   ]
  },
  {
   "cell_type": "code",
   "execution_count": 3,
   "metadata": {},
   "outputs": [],
   "source": [
    "#create a client to connect to the BigQuery API\n",
    "client = bigquery.Client()"
   ]
  },
  {
   "cell_type": "code",
   "execution_count": 4,
   "metadata": {},
   "outputs": [],
   "source": [
    "#referencia a la base de datos\n",
    "dataref = client.dataset(\"covid19_nyt\", project=\"bigquery-public-data\")\n",
    "#api request\n",
    "dataset = client.get_dataset(dataref)"
   ]
  },
  {
   "cell_type": "code",
   "execution_count": 5,
   "metadata": {},
   "outputs": [
    {
     "name": "stdout",
     "output_type": "stream",
     "text": [
      "excess_deaths\n",
      "mask_use_by_county\n",
      "us_counties\n",
      "us_states\n"
     ]
    }
   ],
   "source": [
    "#lista de tablas en la base de datos covid19_nyt\n",
    "tables = list(client.list_tables(dataset))\n",
    "#print nombre de las tablas\n",
    "for table in tables:\n",
    "    print(table.table_id)"
   ]
  },
  {
   "cell_type": "code",
   "execution_count": 6,
   "metadata": {},
   "outputs": [],
   "source": [
    "#construir referencia a la tabla\n",
    "tableref = dataset.table(\"excess_deaths\")\n",
    "#api request\n",
    "table = client.get_table(tableref)"
   ]
  },
  {
   "cell_type": "code",
   "execution_count": 7,
   "metadata": {},
   "outputs": [
    {
     "data": {
      "text/plain": [
       "[SchemaField('country', 'STRING', 'NULLABLE', None, 'The country reported', (), None),\n",
       " SchemaField('placename', 'STRING', 'NULLABLE', None, 'The place in the country reported', (), None),\n",
       " SchemaField('frequency', 'STRING', 'NULLABLE', None, 'Weekly or monthly, depending on how the data is recorded', (), None),\n",
       " SchemaField('start_date', 'DATE', 'NULLABLE', None, 'The first date included in the period', (), None),\n",
       " SchemaField('end_date', 'DATE', 'NULLABLE', None, 'The last date included in the period', (), None),\n",
       " SchemaField('year', 'STRING', 'NULLABLE', None, 'Year reported', (), None),\n",
       " SchemaField('month', 'INTEGER', 'NULLABLE', None, 'Numerical month', (), None),\n",
       " SchemaField('week', 'INTEGER', 'NULLABLE', None, 'Epidemiological week, which is a standardized way of counting weeks to allow for year-over-year comparisons. Most countries start epi weeks on Mondays, but others vary', (), None),\n",
       " SchemaField('deaths', 'INTEGER', 'NULLABLE', None, 'The total number of confirmed deaths recorded from any cause', (), None),\n",
       " SchemaField('expected_deaths', 'INTEGER', 'NULLABLE', None, 'The baseline number of expected deaths, calculated from a historical average', (), None),\n",
       " SchemaField('excess_deaths', 'INTEGER', 'NULLABLE', None, 'The number of deaths minus the expected deaths', (), None),\n",
       " SchemaField('baseline', 'STRING', 'NULLABLE', None, 'The years used to calculate expected_deaths', (), None)]"
      ]
     },
     "execution_count": 7,
     "metadata": {},
     "output_type": "execute_result"
    }
   ],
   "source": [
    "#print informacion de las columnas de la tabla excess_deaths\n",
    "table.schema"
   ]
  },
  {
   "cell_type": "code",
   "execution_count": 8,
   "metadata": {},
   "outputs": [],
   "source": [
    "#La primera columna o campo de la tabla \"excess deaths\" es \"country\"\n",
    "#-> el campo se llama 'country'\n",
    "#-> el tipo de dato es 'STRING'\n",
    "#-> el campo es 'NULLABLE' (permite valores nulos)\n",
    "#-> contiene el nombre del país al que corresponde la fila"
   ]
  },
  {
   "cell_type": "code",
   "execution_count": 9,
   "metadata": {},
   "outputs": [
    {
     "data": {
      "text/html": [
       "<div>\n",
       "<style scoped>\n",
       "    .dataframe tbody tr th:only-of-type {\n",
       "        vertical-align: middle;\n",
       "    }\n",
       "\n",
       "    .dataframe tbody tr th {\n",
       "        vertical-align: top;\n",
       "    }\n",
       "\n",
       "    .dataframe thead th {\n",
       "        text-align: right;\n",
       "    }\n",
       "</style>\n",
       "<table border=\"1\" class=\"dataframe\">\n",
       "  <thead>\n",
       "    <tr style=\"text-align: right;\">\n",
       "      <th></th>\n",
       "      <th>country</th>\n",
       "      <th>placename</th>\n",
       "      <th>frequency</th>\n",
       "      <th>start_date</th>\n",
       "      <th>end_date</th>\n",
       "      <th>year</th>\n",
       "      <th>month</th>\n",
       "      <th>week</th>\n",
       "      <th>deaths</th>\n",
       "      <th>expected_deaths</th>\n",
       "      <th>excess_deaths</th>\n",
       "      <th>baseline</th>\n",
       "    </tr>\n",
       "  </thead>\n",
       "  <tbody>\n",
       "    <tr>\n",
       "      <th>0</th>\n",
       "      <td>India</td>\n",
       "      <td>Mumbai</td>\n",
       "      <td>monthly</td>\n",
       "      <td>NaT</td>\n",
       "      <td>NaT</td>\n",
       "      <td>2020</td>\n",
       "      <td>1</td>\n",
       "      <td>&lt;NA&gt;</td>\n",
       "      <td>8397</td>\n",
       "      <td>8360</td>\n",
       "      <td>37</td>\n",
       "      <td>2019 historical data</td>\n",
       "    </tr>\n",
       "    <tr>\n",
       "      <th>1</th>\n",
       "      <td>India</td>\n",
       "      <td>Mumbai</td>\n",
       "      <td>monthly</td>\n",
       "      <td>NaT</td>\n",
       "      <td>NaT</td>\n",
       "      <td>2020</td>\n",
       "      <td>2</td>\n",
       "      <td>&lt;NA&gt;</td>\n",
       "      <td>7116</td>\n",
       "      <td>7797</td>\n",
       "      <td>-681</td>\n",
       "      <td>2019 historical data</td>\n",
       "    </tr>\n",
       "    <tr>\n",
       "      <th>2</th>\n",
       "      <td>India</td>\n",
       "      <td>Mumbai</td>\n",
       "      <td>monthly</td>\n",
       "      <td>NaT</td>\n",
       "      <td>NaT</td>\n",
       "      <td>2020</td>\n",
       "      <td>3</td>\n",
       "      <td>&lt;NA&gt;</td>\n",
       "      <td>6692</td>\n",
       "      <td>7155</td>\n",
       "      <td>-463</td>\n",
       "      <td>2019 historical data</td>\n",
       "    </tr>\n",
       "    <tr>\n",
       "      <th>3</th>\n",
       "      <td>India</td>\n",
       "      <td>Mumbai</td>\n",
       "      <td>monthly</td>\n",
       "      <td>NaT</td>\n",
       "      <td>NaT</td>\n",
       "      <td>2020</td>\n",
       "      <td>4</td>\n",
       "      <td>&lt;NA&gt;</td>\n",
       "      <td>7092</td>\n",
       "      <td>6752</td>\n",
       "      <td>340</td>\n",
       "      <td>2019 historical data</td>\n",
       "    </tr>\n",
       "    <tr>\n",
       "      <th>4</th>\n",
       "      <td>India</td>\n",
       "      <td>Mumbai</td>\n",
       "      <td>monthly</td>\n",
       "      <td>NaT</td>\n",
       "      <td>NaT</td>\n",
       "      <td>2020</td>\n",
       "      <td>5</td>\n",
       "      <td>&lt;NA&gt;</td>\n",
       "      <td>13833</td>\n",
       "      <td>7335</td>\n",
       "      <td>6498</td>\n",
       "      <td>2019 historical data</td>\n",
       "    </tr>\n",
       "  </tbody>\n",
       "</table>\n",
       "</div>"
      ],
      "text/plain": [
       "  country placename frequency start_date end_date  year  month  week  deaths  \\\n",
       "0   India    Mumbai   monthly        NaT      NaT  2020      1  <NA>    8397   \n",
       "1   India    Mumbai   monthly        NaT      NaT  2020      2  <NA>    7116   \n",
       "2   India    Mumbai   monthly        NaT      NaT  2020      3  <NA>    6692   \n",
       "3   India    Mumbai   monthly        NaT      NaT  2020      4  <NA>    7092   \n",
       "4   India    Mumbai   monthly        NaT      NaT  2020      5  <NA>   13833   \n",
       "\n",
       "   expected_deaths  excess_deaths              baseline  \n",
       "0             8360             37  2019 historical data  \n",
       "1             7797           -681  2019 historical data  \n",
       "2             7155           -463  2019 historical data  \n",
       "3             6752            340  2019 historical data  \n",
       "4             7335           6498  2019 historical data  "
      ]
     },
     "execution_count": 9,
     "metadata": {},
     "output_type": "execute_result"
    }
   ],
   "source": [
    "#previsualizar las primeras filas de la tabla\n",
    "client.list_rows(table, max_results=5).to_dataframe()"
   ]
  },
  {
   "cell_type": "code",
   "execution_count": 11,
   "metadata": {},
   "outputs": [
    {
     "data": {
      "text/html": [
       "<div>\n",
       "<style scoped>\n",
       "    .dataframe tbody tr th:only-of-type {\n",
       "        vertical-align: middle;\n",
       "    }\n",
       "\n",
       "    .dataframe tbody tr th {\n",
       "        vertical-align: top;\n",
       "    }\n",
       "\n",
       "    .dataframe thead th {\n",
       "        text-align: right;\n",
       "    }\n",
       "</style>\n",
       "<table border=\"1\" class=\"dataframe\">\n",
       "  <thead>\n",
       "    <tr style=\"text-align: right;\">\n",
       "      <th></th>\n",
       "      <th>country</th>\n",
       "    </tr>\n",
       "  </thead>\n",
       "  <tbody>\n",
       "    <tr>\n",
       "      <th>0</th>\n",
       "      <td>India</td>\n",
       "    </tr>\n",
       "    <tr>\n",
       "      <th>1</th>\n",
       "      <td>India</td>\n",
       "    </tr>\n",
       "    <tr>\n",
       "      <th>2</th>\n",
       "      <td>India</td>\n",
       "    </tr>\n",
       "    <tr>\n",
       "      <th>3</th>\n",
       "      <td>India</td>\n",
       "    </tr>\n",
       "    <tr>\n",
       "      <th>4</th>\n",
       "      <td>India</td>\n",
       "    </tr>\n",
       "    <tr>\n",
       "      <th>...</th>\n",
       "      <td>...</td>\n",
       "    </tr>\n",
       "    <tr>\n",
       "      <th>95</th>\n",
       "      <td>Italy</td>\n",
       "    </tr>\n",
       "    <tr>\n",
       "      <th>96</th>\n",
       "      <td>Indonesia</td>\n",
       "    </tr>\n",
       "    <tr>\n",
       "      <th>97</th>\n",
       "      <td>Indonesia</td>\n",
       "    </tr>\n",
       "    <tr>\n",
       "      <th>98</th>\n",
       "      <td>Indonesia</td>\n",
       "    </tr>\n",
       "    <tr>\n",
       "      <th>99</th>\n",
       "      <td>Indonesia</td>\n",
       "    </tr>\n",
       "  </tbody>\n",
       "</table>\n",
       "<p>100 rows × 1 columns</p>\n",
       "</div>"
      ],
      "text/plain": [
       "      country\n",
       "0       India\n",
       "1       India\n",
       "2       India\n",
       "3       India\n",
       "4       India\n",
       "..        ...\n",
       "95      Italy\n",
       "96  Indonesia\n",
       "97  Indonesia\n",
       "98  Indonesia\n",
       "99  Indonesia\n",
       "\n",
       "[100 rows x 1 columns]"
      ]
     },
     "execution_count": 11,
     "metadata": {},
     "output_type": "execute_result"
    }
   ],
   "source": [
    "#previsualizar las primeras (100) entradas de la columna 'country'\n",
    "client.list_rows(table, selected_fields=table.schema[:1], max_results=100).to_dataframe()"
   ]
  },
  {
   "cell_type": "code",
   "execution_count": 31,
   "metadata": {},
   "outputs": [
    {
     "name": "stdout",
     "output_type": "stream",
     "text": [
      "This query will process 150633 bytes.\n"
     ]
    }
   ],
   "source": [
    "query = \"\"\"\n",
    "        SELECT deaths, expected_deaths, excess_deaths\n",
    "        FROM `bigquery-public-data.covid19_nyt.excess_deaths`\n",
    "        WHERE country = 'Chile'\n",
    "        \"\"\"\n",
    "\n",
    "dry_run_config = bigquery.QueryJobConfig(dry_run=True)\n",
    "dry_run_query_job = client.query(query, job_config=dry_run_config)\n",
    "print(\"This query will process {} bytes.\".format(dry_run_query_job.total_bytes_processed))"
   ]
  },
  {
   "cell_type": "code",
   "execution_count": 24,
   "metadata": {},
   "outputs": [],
   "source": [
    "#ejecutar la consulta\n",
    "query_job = client.query(query)"
   ]
  },
  {
   "cell_type": "code",
   "execution_count": 25,
   "metadata": {},
   "outputs": [],
   "source": [
    "#corre la query y convierte el resultado en un dataframe\n",
    "Chile_deaths = query_job.to_dataframe()"
   ]
  },
  {
   "cell_type": "code",
   "execution_count": 26,
   "metadata": {},
   "outputs": [
    {
     "data": {
      "text/html": [
       "<div>\n",
       "<style scoped>\n",
       "    .dataframe tbody tr th:only-of-type {\n",
       "        vertical-align: middle;\n",
       "    }\n",
       "\n",
       "    .dataframe tbody tr th {\n",
       "        vertical-align: top;\n",
       "    }\n",
       "\n",
       "    .dataframe thead th {\n",
       "        text-align: right;\n",
       "    }\n",
       "</style>\n",
       "<table border=\"1\" class=\"dataframe\">\n",
       "  <thead>\n",
       "    <tr style=\"text-align: right;\">\n",
       "      <th></th>\n",
       "      <th>deaths</th>\n",
       "      <th>expected_deaths</th>\n",
       "      <th>excess_deaths</th>\n",
       "    </tr>\n",
       "  </thead>\n",
       "  <tbody>\n",
       "    <tr>\n",
       "      <th>0</th>\n",
       "      <td>1888</td>\n",
       "      <td>&lt;NA&gt;</td>\n",
       "      <td>&lt;NA&gt;</td>\n",
       "    </tr>\n",
       "    <tr>\n",
       "      <th>1</th>\n",
       "      <td>1852</td>\n",
       "      <td>&lt;NA&gt;</td>\n",
       "      <td>&lt;NA&gt;</td>\n",
       "    </tr>\n",
       "    <tr>\n",
       "      <th>2</th>\n",
       "      <td>1792</td>\n",
       "      <td>&lt;NA&gt;</td>\n",
       "      <td>&lt;NA&gt;</td>\n",
       "    </tr>\n",
       "    <tr>\n",
       "      <th>3</th>\n",
       "      <td>1812</td>\n",
       "      <td>&lt;NA&gt;</td>\n",
       "      <td>&lt;NA&gt;</td>\n",
       "    </tr>\n",
       "    <tr>\n",
       "      <th>4</th>\n",
       "      <td>1875</td>\n",
       "      <td>&lt;NA&gt;</td>\n",
       "      <td>&lt;NA&gt;</td>\n",
       "    </tr>\n",
       "    <tr>\n",
       "      <th>...</th>\n",
       "      <td>...</td>\n",
       "      <td>...</td>\n",
       "      <td>...</td>\n",
       "    </tr>\n",
       "    <tr>\n",
       "      <th>300</th>\n",
       "      <td>2235</td>\n",
       "      <td>2007</td>\n",
       "      <td>228</td>\n",
       "    </tr>\n",
       "    <tr>\n",
       "      <th>301</th>\n",
       "      <td>2166</td>\n",
       "      <td>2000</td>\n",
       "      <td>166</td>\n",
       "    </tr>\n",
       "    <tr>\n",
       "      <th>302</th>\n",
       "      <td>2205</td>\n",
       "      <td>1995</td>\n",
       "      <td>210</td>\n",
       "    </tr>\n",
       "    <tr>\n",
       "      <th>303</th>\n",
       "      <td>2186</td>\n",
       "      <td>1992</td>\n",
       "      <td>194</td>\n",
       "    </tr>\n",
       "    <tr>\n",
       "      <th>304</th>\n",
       "      <td>2077</td>\n",
       "      <td>1990</td>\n",
       "      <td>87</td>\n",
       "    </tr>\n",
       "  </tbody>\n",
       "</table>\n",
       "<p>305 rows × 3 columns</p>\n",
       "</div>"
      ],
      "text/plain": [
       "     deaths  expected_deaths  excess_deaths\n",
       "0      1888             <NA>           <NA>\n",
       "1      1852             <NA>           <NA>\n",
       "2      1792             <NA>           <NA>\n",
       "3      1812             <NA>           <NA>\n",
       "4      1875             <NA>           <NA>\n",
       "..      ...              ...            ...\n",
       "300    2235             2007            228\n",
       "301    2166             2000            166\n",
       "302    2205             1995            210\n",
       "303    2186             1992            194\n",
       "304    2077             1990             87\n",
       "\n",
       "[305 rows x 3 columns]"
      ]
     },
     "execution_count": 26,
     "metadata": {},
     "output_type": "execute_result"
    }
   ],
   "source": [
    "Chile_deaths"
   ]
  },
  {
   "cell_type": "code",
   "execution_count": 30,
   "metadata": {},
   "outputs": [
    {
     "data": {
      "text/plain": [
       "<Axes: xlabel='deaths', ylabel='expected_deaths'>"
      ]
     },
     "execution_count": 30,
     "metadata": {},
     "output_type": "execute_result"
    },
    {
     "data": {
      "image/png": "[encoded data removed]",
      "text/plain": [
       "<Figure size 640x480 with 1 Axes>"
      ]
     },
     "metadata": {},
     "output_type": "display_data"
    }
   ],
   "source": [
    "Chile_deaths.plot(x='deaths', y='expected_deaths', kind='scatter')"
   ]
  },
  {
   "cell_type": "code",
   "execution_count": null,
   "metadata": {},
   "outputs": [],
   "source": []
  },
  {
   "cell_type": "code",
   "execution_count": null,
   "metadata": {},
   "outputs": [],
   "source": []
  },
  {
   "cell_type": "code",
   "execution_count": null,
   "metadata": {},
   "outputs": [],
   "source": []
  }
 ],
 "metadata": {
  "kernelspec": {
   "display_name": "Python 3",
   "language": "python",
   "name": "python3"
  },
  "language_info": {
   "codemirror_mode": {
    "name": "ipython",
    "version": 3
   },
   "file_extension": ".py",
   "mimetype": "text/x-python",
   "name": "python",
   "nbconvert_exporter": "python",
   "pygments_lexer": "ipython3",
   "version": "3.12.2"
  }
 },
 "nbformat": 4,
 "nbformat_minor": 2
}
